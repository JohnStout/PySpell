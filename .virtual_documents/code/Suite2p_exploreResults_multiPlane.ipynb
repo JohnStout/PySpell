


from pathlib import Path
from tempfile import TemporaryDirectory
import matplotlib.pyplot as plt
import numpy as np
import os
import tifffile
import xmltodict
import suite2p
import cv2
from ipywidgets import IntSlider, VBox
import matplotlib.pyplot as plt
plt.rcParams.update({'font.size': 12})





# movies and associated frame rates
output_path = r"C:\Users\spell\Desktop\John\cleanLines1_img\suite2p\combined"
listed_data = os.listdir(output_path)

# loads in your data and automatically assigns their inputs
var_names =[]
for i in listed_data:
    if '.npy' in i:
        if 'ops' in i:
            globals()[i.split('.')[0]]=np.load(os.path.join(output_path,i),allow_pickle=True).item()
            pass
        else:
            globals()[i.split('.')[0]]=np.load(os.path.join(output_path,i),allow_pickle=True)
        var_names.append([i.split('.')[0]])
        
# prep stuff
output_op_file = np.load(Path(ops['save_path']).joinpath('ops.npy'), allow_pickle=True).item()
output_op_file.keys() == ops.keys()
stats_file = Path(ops['save_path']).joinpath('stat.npy')
iscell = np.load(Path(ops['save_path']).joinpath('iscell.npy'), allow_pickle=True)[:, 0].astype(bool)
stats = np.load(stats_file, allow_pickle=True)
stats.shape, iscell.shape  

# get image object
im = suite2p.ROI.stats_dicts_to_3d_array(stats, Ly=ops['Ly'], Lx=ops['Lx'], label_id=True)
im[im == 0] = np.nan
cell_roi = np.nanmax(im[iscell], axis=0)


plt.imshow(output_op_file['max_proj'])


#fig, ax = plt.subplots(nrows=1,ncols=1,figsize=(4,4))
plt.imshow(im[iscell][120])





# define path
output_path = r"C:\Users\spell\Desktop\John\cleanLines1_img\suite2p"

#
# load data
plane_dirs = [os.path.join(output_path,i) for i in os.listdir(output_path) if 'plane' in i]

# get results
stats_file = []; iscell = []; f_cells = []; f_neuropils = []; spks = []; ops = []
for i in plane_dirs:
    temp_ops = np.load(os.path.join(i,'ops.npy'), allow_pickle=True).item()
    temp_ops.keys() == temp_ops.keys()  
    ops.append(temp_ops)
    stats_file.append(np.load(os.path.join(i,'stat.npy'),allow_pickle=True))
    iscell.append(np.load(os.path.join(i,'iscell.npy'),allow_pickle=True)[:, 0].astype(bool))
    f_cells.append(np.load(os.path.join(i,'F.npy'),allow_pickle=True))
    f_neuropils.append(np.load(os.path.join(i,'Fneu.npy'),allow_pickle=True))
    spks.append(np.load(os.path.join(i,'spks.npy'),allow_pickle=True))

# get image masks
im = []
for i in range(len(stats_file)):
    temp = suite2p.ROI.stats_dicts_to_3d_array(stats_file[i], Ly=ops[i]['Ly'], Lx=ops[i]['Lx'], label_id=True)
    temp[temp == 0] = np.nan
    im.append(temp)

# get single matrix per plane
plane_mask = []
for i in range(len(im)):
    plane_mask.append(np.nanmax(im[i][iscell[i]], axis=0))

#
fig, ax = plt.subplots(nrows=1,ncols=3,figsize=(8,8))
for i in range(len(plane_mask)):
    ax[i].imshow(plane_mask[i])

fig2, ax2 = plt.subplots(nrows=1,ncols=3,figsize=(8,8))
for i in range(len(plane_mask)):
    ax2[i].imshow(ops[i]['max_proj'])

#
from suite2p.detection import stats
#stats.filter_overlappers(ypixs, xpixs, overlap_image, max_overlap)

# x and y data from 1 cell
x = stats_file[0][iscell[0]][0]['xpix']
y = stats_file[0][iscell[0]][0]['ypix']
overlap = stats_file[0][iscell[0]][0]['overlap']





z_image = stats_file[0]
z_image


comp = 29
#plt.imsh3w(im[0][iscell[0]][comp]); #ax[0].set_axis_off()
fig, ax = plt.subplots(nrows = 1, ncols = 3, figsize=(10,10))
ax[0].imshow(im[0][iscell[0]][comp]); #ax[0].set_axis_off()
ax[1].imshow(im[1][iscell[1]][comp]); ax[1].set_axis_off()
ax[2].imshow(im[2][iscell[2]][comp]); ax[2].set_axis_off()














plt.subplot(1, 4, 1)
plt.imshow(ops['refImg'], cmap='gray', )
plt.title("Reference Image for Registration");

plt.subplot(1, 4, 2)
plt.imshow(ops['max_proj'], cmap='gray')
plt.title("Registered Image, Max Projection");

plt.subplot(1, 4, 3)
plt.imshow(ops['meanImg'], cmap='gray')
plt.title("Mean registered image")

plt.subplot(1, 4, 4)
plt.imshow(ops['meanImgE'], cmap='gray')
plt.title("High-pass filtered Mean registered image");





stats_file = Path(ops['save_path']).joinpath('stat.npy')
iscell = np.load(Path(ops['save_path']).joinpath('iscell.npy'), allow_pickle=True)[:, 0].astype(bool)
stats = np.load(stats_file, allow_pickle=True)
stats.shape, iscell.shape


im = suite2p.ROI.stats_dicts_to_3d_array(stats, Ly=ops['Ly'], Lx=ops['Lx'], label_id=True)
im[im == 0] = np.nan

plt.subplot(1, 4, 1)
plt.imshow(ops['max_proj'], cmap='gray')
plt.title("Registered Image, Max Projection")

plt.subplot(1, 4, 2)
plt.imshow(np.nanmax(im, axis=0), cmap='jet')
plt.title("All ROIs Found")

plt.subplot(1, 4, 3)
plt.imshow(np.nanmax(im[~iscell], axis=0, ), cmap='jet')
plt.title("All Non-Cell ROIs")

plt.subplot(1, 4, 4)
plt.imshow(np.nanmax(im[iscell], axis=0), cmap='jet')
plt.title("All Cell ROIs");






cell_roi = np.nanmax(im[iscell], axis=0)
plt.figure(figsize=(3,3))
plt.imshow(cell_roi)





f_cells = np.load(Path(ops['save_path']).joinpath('F.npy'))
f_neuropils = np.load(Path(ops['save_path']).joinpath('Fneu.npy'))
spks = np.load(Path(ops['save_path']).joinpath('spks.npy'))
f_cells.shape, f_neuropils.shape, spks.shape





idx = [147, 422, 700]
plt.plot(f_cells[idx[0]])
plt.plot(f_cells[idx[1]])
plt.plot(f_cells[idx[2]])

from scipy.stats import pearsonr
corr, _ = pearsonr(f_cells[idx[0]], f_cells[idx[2]])
corr

#corr, _ = pearsonr(spks[0], spks[2])
#plt.plot(spks[0])
#plt.plot(spks[2])
#corr





idx = [147, 422, 700]
plt.plot(spks[idx[0]])
plt.plot(spks[idx[1]])
plt.plot(spks[idx[2]])

from scipy.stats import pearsonr
corr, _ = pearsonr(spks[idx[0]], spks[idx[2]])
corr











output_path = r"C:\Users\spell\Desktop\John\cleanLines1_img\suite2p"
plane_dirs = [os.path.join(output_path,i) for i in os.listdir(output_path) if 'plane' in i]

# get results
stats_file = []; iscell = []; f_cells = []; f_neuropils = []; spks = []; ops = []
for i in plane_dirs:
    temp_ops = np.load(os.path.join(i,'ops.npy'), allow_pickle=True).item()
    temp_ops.keys() == temp_ops.keys()  
    ops.append(temp_ops)
    stats_file.append(np.load(os.path.join(i,'stat.npy'),allow_pickle=True))
    iscell.append(np.load(os.path.join(i,'iscell.npy'),allow_pickle=True)[:, 0].astype(bool))
    f_cells.append(np.load(os.path.join(i,'F.npy'),allow_pickle=True))
    f_neuropils.append(np.load(os.path.join(i,'Fneu.npy'),allow_pickle=True))
    spks.append(np.load(os.path.join(i,'spks.npy'),allow_pickle=True))

# get image masks
im = []
for i in range(len(stats_file)):
    temp = suite2p.ROI.stats_dicts_to_3d_array(stats_file[i], Ly=ops[i]['Ly'], Lx=ops[i]['Lx'], label_id=True)
    temp[temp == 0] = np.nan
    im.append(temp)

# get single matrix per plane
plane_mask = []
for i in range(len(im)):
    plane_mask.append(np.nanmax(im[i][iscell[i]], axis=0))


fig, ax = plt.subplots(nrows=1,ncols=3,figsize=(10,10))
for i in range(len(plane_mask)):
    ax[i].imshow(plane_mask[i])
fig2, ax2 = plt.subplots(nrows=1,ncols=3,figsize=(10,10))
for i in range(len(plane_mask)):
    ax2[i].imshow(ops[i]['max_proj'])



im[0][iscell[0]][0]


ops[0]


ops[0]['Lx']


plt.figure(figsize=[20,20])
plt.suptitle("Flourescence and Deconvolved Traces for Different ROIs", y=0.92);
rois = np.arange(len(f_cells))[::20]
for i, roi in enumerate(rois):
    plt.subplot(len(rois), 1, i+1, )
    f = f_cells[roi]
    f_neu = f_neuropils[roi]
    sp = spks[roi]
    # Adjust spks range to match range of fluroescence traces
    fmax = np.maximum(f.max(), f_neu.max())
    fmin = np.minimum(f.min(), f_neu.min())
    frange = fmax - fmin 
    sp /= sp.max()
    sp *= frange
    plt.plot(f, label="Cell Fluorescence")
    plt.plot(f_neu, label="Neuropil Fluorescence")
    plt.plot(sp + fmin, label="Deconvolved")
    plt.xticks(np.arange(0, f_cells.shape[1], f_cells.shape[1]/10))
    plt.ylabel(f"ROI {roi}", rotation=0)
    plt.xlabel("frame")
    if i == 0:
        plt.legend(bbox_to_anchor=(0.93, 2))



