{
 "cells": [
  {
   "cell_type": "markdown",
   "metadata": {},
   "source": [
    "Testing out different analysis approaches\n",
    "\n",
    "---\n",
    "\n",
    "First, lets load in our `NWB` file and unpack it. \n",
    "\n",
    "Note that we are not using Pynapple simply because it does not support unpackaging variables stowed away by suite2p\n",
    "\n",
    "There are some modifications that would need to be made to the `NWB` file to support `Pynapple`, including conversion of our indices or time points to tsGroup"
   ]
  },
  {
   "cell_type": "code",
   "execution_count": 1,
   "metadata": {},
   "outputs": [
    {
     "name": "stderr",
     "output_type": "stream",
     "text": [
      "c:\\Users\\johnj\\anaconda3\\envs\\spellPy\\lib\\site-packages\\pynwb\\base.py:203: UserWarning: IntervalSeries 'lick_times_all_index': Length of data does not match length of timestamps. Your data may be transposed. Time should be on the 0th dimension\n",
      "  warn(\"%s '%s': Length of data does not match length of timestamps. Your data may be transposed. \"\n",
      "c:\\Users\\johnj\\anaconda3\\envs\\spellPy\\lib\\site-packages\\pynwb\\base.py:203: UserWarning: IntervalSeries 'lick_times_left_index': Length of data does not match length of timestamps. Your data may be transposed. Time should be on the 0th dimension\n",
      "  warn(\"%s '%s': Length of data does not match length of timestamps. Your data may be transposed. \"\n",
      "c:\\Users\\johnj\\anaconda3\\envs\\spellPy\\lib\\site-packages\\pynwb\\base.py:203: UserWarning: IntervalSeries 'lick_times_right_index': Length of data does not match length of timestamps. Your data may be transposed. Time should be on the 0th dimension\n",
      "  warn(\"%s '%s': Length of data does not match length of timestamps. Your data may be transposed. \"\n",
      "c:\\Users\\johnj\\anaconda3\\envs\\spellPy\\lib\\site-packages\\pynwb\\base.py:203: UserWarning: IntervalSeries 'reward_time_index': Length of data does not match length of timestamps. Your data may be transposed. Time should be on the 0th dimension\n",
      "  warn(\"%s '%s': Length of data does not match length of timestamps. Your data may be transposed. \"\n",
      "c:\\Users\\johnj\\anaconda3\\envs\\spellPy\\lib\\site-packages\\pynwb\\base.py:203: UserWarning: IntervalSeries 'stim_off_times': Length of data does not match length of timestamps. Your data may be transposed. Time should be on the 0th dimension\n",
      "  warn(\"%s '%s': Length of data does not match length of timestamps. Your data may be transposed. \"\n",
      "c:\\Users\\johnj\\anaconda3\\envs\\spellPy\\lib\\site-packages\\pynwb\\base.py:203: UserWarning: IntervalSeries 'stim_on_times': Length of data does not match length of timestamps. Your data may be transposed. Time should be on the 0th dimension\n",
      "  warn(\"%s '%s': Length of data does not match length of timestamps. Your data may be transposed. \"\n",
      "c:\\Users\\johnj\\anaconda3\\envs\\spellPy\\lib\\site-packages\\pynwb\\base.py:203: UserWarning: IntervalSeries 'trial_end_index': Length of data does not match length of timestamps. Your data may be transposed. Time should be on the 0th dimension\n",
      "  warn(\"%s '%s': Length of data does not match length of timestamps. Your data may be transposed. \"\n",
      "c:\\Users\\johnj\\anaconda3\\envs\\spellPy\\lib\\site-packages\\pynwb\\base.py:203: UserWarning: IntervalSeries 'trial_start_index': Length of data does not match length of timestamps. Your data may be transposed. Time should be on the 0th dimension\n",
      "  warn(\"%s '%s': Length of data does not match length of timestamps. Your data may be transposed. \"\n"
     ]
    },
    {
     "name": "stdout",
     "output_type": "stream",
     "text": [
      "trialStartTimes detected\n",
      "rewardTimes detected\n",
      "stimOnTimes detected\n",
      "stimOffTimes detected\n",
      "lickTimesL detected\n",
      "lickTimesR detected\n"
     ]
    }
   ],
   "source": [
    "import os; os.chdir(os.path.split(os.getcwd())[0])\n",
    "import nwbfun\n",
    "import plotters\n",
    "import numpy as np\n",
    "import matplotlib.pyplot as plt\n",
    "\n",
    "nwbpath = r\"C:\\Users\\johnj\\SpellmanLab Dropbox\\timspellman\\Python\\John\\PySpell\\code\\Projects\\L6 neurons\\data\\L6L5_MDT_Neurons\\t284_SEDS2_L5.nwb\"\n",
    "stat, ops, F, Fneu, spks, iscell, probcell, redcell, probredcell = nwbfun.suite2p_nwb().read_nwb(fpath=nwbpath);\n",
    "behdict = nwbfun.unwrap().spellmanBeh(nwbpath=nwbpath);\n",
    "time_around=[10,10] # time around event marker for PETH"
   ]
  },
  {
   "cell_type": "markdown",
   "metadata": {},
   "source": [
    "Data exploration with `peth`\n",
    "\n",
    "`peth` was designed specifically for Spellman lab code. So this inherently requires that you used Tims code to convert your behavioral data to `.mat` files. Once you have done that\n",
    "\n",
    "Above, we unpacked our suite2p results and behavioral data from the `nwb` file! You could create custom code, or you could use the `peth` function from the `plotters` module"
   ]
  },
  {
   "cell_type": "code",
   "execution_count": 23,
   "metadata": {},
   "outputs": [
    {
     "name": "stdout",
     "output_type": "stream",
     "text": [
      "trialStartTimes detected\n",
      "rewardTimes detected\n",
      "stimOnTimes detected\n",
      "stimOffTimes detected\n",
      "lickTimesL detected\n",
      "lickTimesR detected\n"
     ]
    }
   ],
   "source": [
    "# this should be under a different function name\n",
    "peth = plotters.seds_peth(neural_data = spks[iscell,:], fs=ops['fs'], behdata=behdict, time_around=[10,10]);"
   ]
  },
  {
   "cell_type": "markdown",
   "metadata": {},
   "source": [
    "Lets convert some of our indices\n"
   ]
  },
  {
   "cell_type": "code",
   "execution_count": 22,
   "metadata": {},
   "outputs": [
    {
     "data": {
      "text/plain": [
       "dict_keys(['trialStartTimes', 'trialStartTimessetID_0', 'trialStartTimessetID_1', 'trialStartTimestrialCorrect', 'trialStartTimestrialIncorrect', 'trialStartTimesrelLeft', 'trialStartTimesrelRight', 'trialStartTimesirrelLeft', 'trialStartTimesirrelRight', 'trialStartTimessetID_0_correct', 'trialStartTimessetID_0_incorrect', 'trialStartTimessetID_1_correct', 'trialStartTimessetID_1_incorrect', 'trialStartTimessetID_0_correct_relLeft', 'trialStartTimessetID_0_incorrect_relLeft', 'trialStartTimessetID_0_correct_relRight', 'trialStartTimessetID_0_incorrect_relRight', 'trialStartTimessetID_1_correct_relLeft', 'trialStartTimessetID_1_incorrect_relLeft', 'trialStartTimessetID_1_correct_relRight', 'trialStartTimessetID_1_incorrect_relRight', 'trialStartTimessetID_0_correct_irrelLeft', 'trialStartTimessetID_0_incorrect_irrelLeft', 'trialStartTimessetID_0_correct_irrelRight', 'trialStartTimessetID_0_incorrect_irrelRight', 'trialStartTimessetID_1_correct_irrelLeft', 'trialStartTimessetID_1_incorrect_irrelLeft', 'trialStartTimessetID_1_correct_irrelRight', 'trialStartTimessetID_1_incorrect_irrelRight', 'trialStartTimessetID_0_correct_irrelLeftRelLeft', 'trialStartTimessetID_0_incorrect_irrelLeftRelLeft', 'trialStartTimessetID_0_correct_irrelRightRelLeft', 'trialStartTimessetID_0_incorrect_irrelRightRelLeft', 'trialStartTimessetID_1_correct_irrelLeftRelRight', 'trialStartTimessetID_1_incorrect_irrelLeftRelRight', 'trialStartTimessetID_1_correct_irrelRightRelRight', 'trialStartTimessetID_1_incorrect_irrelRightRelRight', 'rewardTimes', 'stimOnTimes', 'stimOnTimessetID_0', 'stimOnTimessetID_1', 'stimOnTimestrialCorrect', 'stimOnTimestrialIncorrect', 'stimOnTimesrelLeft', 'stimOnTimesrelRight', 'stimOnTimesirrelLeft', 'stimOnTimesirrelRight', 'stimOnTimessetID_0_correct', 'stimOnTimessetID_0_incorrect', 'stimOnTimessetID_1_correct', 'stimOnTimessetID_1_incorrect', 'stimOnTimessetID_0_correct_relLeft', 'stimOnTimessetID_0_incorrect_relLeft', 'stimOnTimessetID_0_correct_relRight', 'stimOnTimessetID_0_incorrect_relRight', 'stimOnTimessetID_1_correct_relLeft', 'stimOnTimessetID_1_incorrect_relLeft', 'stimOnTimessetID_1_correct_relRight', 'stimOnTimessetID_1_incorrect_relRight', 'stimOnTimessetID_0_correct_irrelLeft', 'stimOnTimessetID_0_incorrect_irrelLeft', 'stimOnTimessetID_0_correct_irrelRight', 'stimOnTimessetID_0_incorrect_irrelRight', 'stimOnTimessetID_1_correct_irrelLeft', 'stimOnTimessetID_1_incorrect_irrelLeft', 'stimOnTimessetID_1_correct_irrelRight', 'stimOnTimessetID_1_incorrect_irrelRight', 'stimOnTimessetID_0_correct_irrelLeftRelLeft', 'stimOnTimessetID_0_incorrect_irrelLeftRelLeft', 'stimOnTimessetID_0_correct_irrelRightRelLeft', 'stimOnTimessetID_0_incorrect_irrelRightRelLeft', 'stimOnTimessetID_1_correct_irrelLeftRelRight', 'stimOnTimessetID_1_incorrect_irrelLeftRelRight', 'stimOnTimessetID_1_correct_irrelRightRelRight', 'stimOnTimessetID_1_incorrect_irrelRightRelRight', 'stimOffTimes', 'stimOffTimessetID_0', 'stimOffTimessetID_1', 'stimOffTimestrialCorrect', 'stimOffTimestrialIncorrect', 'stimOffTimesrelLeft', 'stimOffTimesrelRight', 'stimOffTimesirrelLeft', 'stimOffTimesirrelRight', 'stimOffTimessetID_0_correct', 'stimOffTimessetID_0_incorrect', 'stimOffTimessetID_1_correct', 'stimOffTimessetID_1_incorrect', 'stimOffTimessetID_0_correct_relLeft', 'stimOffTimessetID_0_incorrect_relLeft', 'stimOffTimessetID_0_correct_relRight', 'stimOffTimessetID_0_incorrect_relRight', 'stimOffTimessetID_1_correct_relLeft', 'stimOffTimessetID_1_incorrect_relLeft', 'stimOffTimessetID_1_correct_relRight', 'stimOffTimessetID_1_incorrect_relRight', 'stimOffTimessetID_0_correct_irrelLeft', 'stimOffTimessetID_0_incorrect_irrelLeft', 'stimOffTimessetID_0_correct_irrelRight', 'stimOffTimessetID_0_incorrect_irrelRight', 'stimOffTimessetID_1_correct_irrelLeft', 'stimOffTimessetID_1_incorrect_irrelLeft', 'stimOffTimessetID_1_correct_irrelRight', 'stimOffTimessetID_1_incorrect_irrelRight', 'stimOffTimessetID_0_correct_irrelLeftRelLeft', 'stimOffTimessetID_0_incorrect_irrelLeftRelLeft', 'stimOffTimessetID_0_correct_irrelRightRelLeft', 'stimOffTimessetID_0_incorrect_irrelRightRelLeft', 'stimOffTimessetID_1_correct_irrelLeftRelRight', 'stimOffTimessetID_1_incorrect_irrelLeftRelRight', 'stimOffTimessetID_1_correct_irrelRightRelRight', 'stimOffTimessetID_1_incorrect_irrelRightRelRight', 'lickTimesL', 'lickTimesR'])"
      ]
     },
     "execution_count": 22,
     "metadata": {},
     "output_type": "execute_result"
    }
   ],
   "source": [
    "peth.keys()"
   ]
  },
  {
   "cell_type": "markdown",
   "metadata": {},
   "source": []
  }
 ],
 "metadata": {
  "kernelspec": {
   "display_name": "spellPy",
   "language": "python",
   "name": "python3"
  },
  "language_info": {
   "codemirror_mode": {
    "name": "ipython",
    "version": 3
   },
   "file_extension": ".py",
   "mimetype": "text/x-python",
   "name": "python",
   "nbconvert_exporter": "python",
   "pygments_lexer": "ipython3",
   "version": "3.9.19"
  }
 },
 "nbformat": 4,
 "nbformat_minor": 2
}
