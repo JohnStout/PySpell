{
 "cells": [
  {
   "cell_type": "markdown",
   "id": "c8d668a1-dfb8-43c1-a654-6ceeae99f9e4",
   "metadata": {},
   "source": [
    "# Convert file\n",
    "\n",
    "This code uses RawFileConverter found on timspellman dropbox and linked to https://github.com/JohnStout/RawFileConverter\n",
    "\n",
    "---"
   ]
  },
  {
   "cell_type": "markdown",
   "id": "ae8227a3-8992-49a1-a334-c1cbe80eec5b",
   "metadata": {},
   "source": [
    "Import classic package"
   ]
  },
  {
   "cell_type": "code",
   "execution_count": 1,
   "id": "aa70fb2c-a0b3-4077-8c23-1652a5629379",
   "metadata": {},
   "outputs": [],
   "source": [
    "import tifffile\n",
    "import os\n",
    "import matplotlib.pyplot as plt\n",
    "import sys"
   ]
  },
  {
   "cell_type": "markdown",
   "id": "938d7dc9-33f9-49ac-84b4-09d36af7913a",
   "metadata": {},
   "source": [
    "Import lab specific code"
   ]
  },
  {
   "cell_type": "code",
   "execution_count": 2,
   "id": "976e1d57-e8d1-4528-aa12-a1b84d0b6f04",
   "metadata": {},
   "outputs": [
    {
     "name": "stdout",
     "output_type": "stream",
     "text": [
      "Added the following packages to path: ['PySpell', 'RawFileConverter', 'suite2p_fastplotlib_notebooks']\n"
     ]
    }
   ],
   "source": [
    "local_root = os.path.split(os.path.split(os.getcwd())[0])[0] # local folder (John)\n",
    "local_packages = os.listdir(local_root) # packages in John folder\n",
    "\n",
    "# get lab root\n",
    "lab_root = os.path.split(os.path.split(local_root)[0])[0]\n",
    "lab_folders = os.listdir(lab_root) # all folders in timspellman dropbox\n",
    "\n",
    "# get matlab and python folder\n",
    "matlab_folder = os.path.join(lab_root,'MATLAB')\n",
    "python_folder = os.path.join(lab_root,'Python')\n",
    "\n",
    "# add the local packages to path\n",
    "[sys.path.append(os.path.join(local_root,i,'code')) for i in local_packages]\n",
    "print(\"Added the following packages to path:\",local_packages)\n",
    "\n",
    "# import raw_to_tif\n",
    "import raw_to_tif # find a way to do this iteratively (search through all packages code names and load while checking for duplicate names in path)"
   ]
  },
  {
   "cell_type": "markdown",
   "id": "e17168d2-ec94-4b4f-ab65-4772b4dd6d7e",
   "metadata": {},
   "source": [
    "Convert data\n",
    "\n",
    "`filepath` is the directory to your .raw file\n",
    "\n",
    "`method` accepts: `\"suite2p\"`, `\"max_proj\"`, and `\"4D\"`\n",
    "\n",
    "Note that suite2p accepts max projection data, but if you want z-plane, you would run `method = \"suite2p\"`"
   ]
  },
  {
   "cell_type": "code",
   "execution_count": null,
   "id": "1878b2ae-3d35-45eb-94d0-e0c4a3595cea",
   "metadata": {},
   "outputs": [],
   "source": [
    "filepath = r\"C:\\Users\\spell\\Desktop\\John\\cleanLines1_img\\Image_001_001.raw\"\n",
    "method = \"suite2p\"\n",
    "\n",
    "# convert\n",
    "conv_data = raw_to_tif.RawToTif(filepath=filepath)\n",
    "conv_data.convert(method=method)"
   ]
  }
 ],
 "metadata": {
  "kernelspec": {
   "display_name": "Python 3 (ipykernel)",
   "language": "python",
   "name": "python3"
  },
  "language_info": {
   "codemirror_mode": {
    "name": "ipython",
    "version": 3
   },
   "file_extension": ".py",
   "mimetype": "text/x-python",
   "name": "python",
   "nbconvert_exporter": "python",
   "pygments_lexer": "ipython3",
   "version": "3.9.18"
  }
 },
 "nbformat": 4,
 "nbformat_minor": 5
}
