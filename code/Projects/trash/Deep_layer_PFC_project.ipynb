{
 "cells": [
  {
   "cell_type": "markdown",
   "metadata": {},
   "source": [
    "# Deep layer PFC project\n",
    "The purpose of this project is to understand the contribution of deep L6 corticothalamic (CT) neuron contributions to circuit function and cognition. There is a specific emphasism on circuit function as we predict that based on work in the visual cortex (Olsen et al., 2012; Bortone et al., 2014) and somatosensory cortex (Kim et al., 2014) that deep L6 CT neurons of the mPFC serve to modulate superficial neurons and their gain of activity through intracortical mechanisms and indirect thalamocortical control.\n",
    "\n",
    "Interestingly, L6 neurons of the barrel cortex, motor cortex, and V1 converge on the finding that L6 CT neurons are generally quiet (O'Connor et al., 2010; Velez-Fort et al., 2014; Beloozerova et al., 2003; Harris and Shepherd, 2015). L6 CT neurons seem to become preferentially tuned to perceptually relevant information (Velez-Fort et al., 2014) and exhibit some of the strongest task correlates found amongst PFC projection neurons (Spellman et al., 2021).\n",
    "\n",
    "In 2016, Grosmark and Buzsaki discovered that in the hippocampus, there exist sparse firing neurons and rapidly firing neurons. The large majority of spikes are contributed by a small number of fast firing neurons, a finding also observed in the cortex (O'Connor et al., 2014). This is reminicent of a log-scale brain, where a small number of items contribute to a great amount of the noise observed (Buzsaki, 2004).\n",
    "\n",
    "However, Grosmark and Buzsaki (2016) also found that these sparse firing, quiet neurons, were those cells that shifted their place cell responses, exhibited evidence of plasticity, and became preferentially replayed during SWR activity in sleep - physiological phenomenon associated with memory consolidation. This raises the possibility that a fundamental rule of brain functionality is sparseness - that those neurons with sparse activity patterns are those neurons that learn from experience to shape the functionality of the noisy integrator neurons.\n",
    "\n",
    "We predict that L6 neurons of the PFC are sparse/quiet, robustly shaped by learning, and modulate noisy-networks to adjust the gain of signals.\n",
    "\n",
    "## Experiment 1: \n",
    "Hypothesis: L6 CT neurons are sparsely firing relative to L5 and L2/3 neurons, but display finer tuning with learning.\n",
    "\n",
    "## Experiment 2:\n",
    "Hypothesis: L6 CT neuronal activity serve to suppress L2/3 responses to modulate the gain of a signal.\n",
    "    -> Prediction: L6 CT stimulation via CrimsonR will suppress the firing activity of L2/3 neurons, but not change the tuning properties\n",
    "\n",
    "## Experiment 3:\n",
    "Hypothesis: L6 CT manipulations serve to provide feedback signals to the brain\n",
    "    -> Prediction: Activation of L6 CT neurons post-choice on the ASST paradigm (Spellman et al., 2021) will improve feedback, enhancing future decision making. However, activation of L6 CT neurons pre-choice or during choice will serve to disrupt decision processes\n",
    "\n",
    "-----"
   ]
  },
  {
   "cell_type": "markdown",
   "metadata": {},
   "source": [
    "### Experiment 1\n",
    "\n",
    "First, lets see if we have evidence of sparse firing activity amongst L6 neurons from Tim's research. \n",
    "\n",
    "Tim found that relative to L5 neurons, L6 neurons are:\n",
    "- Burstier\n",
    "- Show lower overall activity\n",
    "- Exhibit stronger choice correlates\n",
    "\n",
    "I mostly want to see their baseline activity profiles\n",
    "\n",
    "--"
   ]
  },
  {
   "cell_type": "markdown",
   "metadata": {},
   "source": [
    "Import packages, including custom code"
   ]
  },
  {
   "cell_type": "code",
   "execution_count": 1,
   "metadata": {},
   "outputs": [
    {
     "name": "stdout",
     "output_type": "stream",
     "text": [
      "Added the following packages to path: ['.ipynb_checkpoints', 'dPCA_demo.ipynb', 'MultiXRegistration', 'PySpell', 'RawFileConverter', 'suite2p_fastplotlib_notebooks']\n"
     ]
    }
   ],
   "source": [
    "import os\n",
    "import sys \n",
    "import numpy as np\n",
    "import suite2p\n",
    "import scipy.io as sio\n",
    "import matplotlib.pyplot as plt\n",
    "\n",
    "local_root = os.path.split(os.path.split(os.getcwd())[0])[0] # local folder (John)\n",
    "local_packages = os.listdir(local_root) # packages in John folder\n",
    "\n",
    "# get lab root\n",
    "lab_root = os.path.split(os.path.split(local_root)[0])[0]\n",
    "lab_folders = os.listdir(lab_root) # all folders in timspellman dropbox\n",
    "\n",
    "# get matlab and python folder\n",
    "matlab_folder = os.path.join(lab_root,'MATLAB')\n",
    "python_folder = os.path.join(lab_root,'Python')\n",
    "\n",
    "# add the local packages to path\n",
    "[sys.path.append(os.path.join(local_root,i,'code')) for i in local_packages]\n",
    "print(\"Added the following packages to path:\",local_packages)\n",
    "\n",
    "# import raw_to_tif\n",
    "from utils import helper_funs\n",
    "import dataWrangler"
   ]
  },
  {
   "cell_type": "markdown",
   "metadata": {},
   "source": [
    "### First, I want to test with pan-neuronal data, if there is evidence for deep layer modulation of superficially positioned neurons\n",
    "\n",
    "Reshape your `A` variable as such(MATLAB): squeeze(reshape(neuron.A(:,1),[256 nnn]))\n",
    "\n",
    "I have that existing caiman hacked code for cross-session reg"
   ]
  },
  {
   "cell_type": "code",
   "execution_count": 5,
   "metadata": {},
   "outputs": [
    {
     "name": "stdout",
     "output_type": "stream",
     "text": [
      ".mat file discovered: image_moco_footprintCNMF_E.mat\n",
      "Available variables in footprint: ['image', 'med']\n"
     ]
    }
   ],
   "source": [
    "datafolder = r\"C:\\Users\\uggriffin\\SpellmanLab Dropbox\\timspellman\\Imaging\\hSyn-GCaMP_WCMC\"\n",
    "animals = os.listdir(datafolder); animals = [i for i in animals if '.' not in i]\n",
    "animal = 't326' #animals[0] # or manually enter\n",
    "session_type = 'SEDS' # session\n",
    "\n",
    "# just examine the first session per animal. Start with one animal\n",
    "mouse_seds = [i for i in os.listdir(os.path.join(datafolder,animal)) if 'SED' in i if '.' not in i]\n",
    "mouse_seds_folder = os.path.join(datafolder,animal,mouse_seds[0])\n",
    "\n",
    "# search for data\n",
    "datafile_part = 'image_moco'\n",
    "sources   = [i for i in os.listdir(mouse_seds_folder) if datafile_part in i if '.mat' in i if 'sources' in i]\n",
    "footprint = [i for i in os.listdir(mouse_seds_folder) if datafile_part in i if '.mat' in i if 'footprint' in i]\n",
    "\n",
    "# load data\n",
    "#sourcesmat   = sio.loadmat(os.path.join(mouse_seds_folder,sources[0]))\n",
    "data_footprint, variables = dataWrangler.matpy(os.path.join(mouse_seds_folder,footprint[0])).parsemat()\n",
    "#data_neuron, variables = dataWrangler.matpy(os.path.join(mouse_seds_folder,sources[0])).parseNeuronStruct()\n",
    "\n",
    "sources = sio.loadmat(os.path.join(mouse_seds_folder,sources[0]), mat_dtype = True)\n",
    "print(\"Available variables in footprint:\",variables)\n",
    "#footprintmat = sio.loadmat(os.path.join(mouse_seds_folder,footprint[0]))"
   ]
  },
  {
   "cell_type": "code",
   "execution_count": 6,
   "metadata": {},
   "outputs": [
    {
     "data": {
      "text/plain": [
       "{'__header__': b'MATLAB 5.0 MAT-file, Platform: PCWIN64, Created on: Mon Apr 15 16:47:15 2019',\n",
       " '__version__': '1.0',\n",
       " '__globals__': [],\n",
       " 'None': MatlabOpaque([(b'neuron', b'MCOS', b'Sources2D', array([[3707764736],\n",
       "                      [         2],\n",
       "                      [         1],\n",
       "                      [         1],\n",
       "                      [         1],\n",
       "                      [         5]], dtype=uint32))                   ],\n",
       "              dtype=[('s0', 'O'), ('s1', 'O'), ('s2', 'O'), ('arr', 'O')]),\n",
       " '__function_workspace__': array([[ 0,  1, 73, ...,  0,  0,  0]], dtype=uint8)}"
      ]
     },
     "execution_count": 6,
     "metadata": {},
     "output_type": "execute_result"
    }
   ],
   "source": [
    "sources"
   ]
  },
  {
   "cell_type": "markdown",
   "metadata": {},
   "source": [
    "Plot footprint"
   ]
  },
  {
   "cell_type": "code",
   "execution_count": 51,
   "metadata": {},
   "outputs": [
    {
     "name": "stdout",
     "output_type": "stream",
     "text": [
      "Here is the footprint (Component, Y, X): (898, 256, 130)\n"
     ]
    },
    {
     "data": {
      "text/plain": [
       "<matplotlib.image.AxesImage at 0x27386b96760>"
      ]
     },
     "execution_count": 51,
     "metadata": {},
     "output_type": "execute_result"
    },
    {
     "data": {
      "image/png": "[encoded data removed]",
      "text/plain": [
       "<Figure size 640x480 with 1 Axes>"
      ]
     },
     "metadata": {},
     "output_type": "display_data"
    }
   ],
   "source": [
    "print(\"Here is the footprint (Component, Y, X):\",data_footprint['image'].shape)\n",
    "summary_image = np.max(data_footprint['image'],axis=0)\n",
    "plt.imshow(summary_image)"
   ]
  },
  {
   "cell_type": "markdown",
   "metadata": {},
   "source": [
    "This approach simply uses Tim's `sourcesS2P.mat` files along with the corresponding behavior. I search for the `sourcesS2P.mat` files using the `SEDS` behavioral files\n",
    "\n",
    "This is going to be a massively large dataset. To avoid this, I am going to `memory map` each file. Load them in and work with only what is needed."
   ]
  },
  {
   "cell_type": "code",
   "execution_count": 58,
   "metadata": {},
   "outputs": [
    {
     "name": "stdout",
     "output_type": "stream",
     "text": [
      "Finished loading data for mouse: t284\n"
     ]
    },
    {
     "ename": "AssertionError",
     "evalue": "troubleshooting",
     "output_type": "error",
     "traceback": [
      "\u001b[1;31m---------------------------------------------------------------------------\u001b[0m",
      "\u001b[1;31mAssertionError\u001b[0m                            Traceback (most recent call last)",
      "Cell \u001b[1;32mIn[58], line 16\u001b[0m\n\u001b[0;32m     13\u001b[0m layer_5_sources \u001b[38;5;241m=\u001b[39m \u001b[38;5;28mdict\u001b[39m(); layer_5_behavior \u001b[38;5;241m=\u001b[39m \u001b[38;5;28mdict\u001b[39m(); counter \u001b[38;5;241m=\u001b[39m \u001b[38;5;241m0\u001b[39m\n\u001b[0;32m     14\u001b[0m \u001b[38;5;28;01mfor\u001b[39;00m animali \u001b[38;5;129;01min\u001b[39;00m layer_5_animals: \u001b[38;5;66;03m# loop over each animal\u001b[39;00m\n\u001b[1;32m---> 16\u001b[0m     \u001b[38;5;28;01massert\u001b[39;00m counter \u001b[38;5;241m==\u001b[39m \u001b[38;5;241m0\u001b[39m, \u001b[38;5;124m\"\u001b[39m\u001b[38;5;124mtroubleshooting\u001b[39m\u001b[38;5;124m\"\u001b[39m\n\u001b[0;32m     18\u001b[0m     \u001b[38;5;66;03m# join the rootfolder with each animal\u001b[39;00m\n\u001b[0;32m     19\u001b[0m     datafolder_img \u001b[38;5;241m=\u001b[39m os\u001b[38;5;241m.\u001b[39mpath\u001b[38;5;241m.\u001b[39mjoin(Datafolders_img,animali)\n",
      "\u001b[1;31mAssertionError\u001b[0m: troubleshooting"
     ]
    }
   ],
   "source": [
    "# root folder\n",
    "Datafolders_img = r\"C:\\Users\\uggriffin\\SpellmanLab Dropbox\\timspellman\\Imaging\\PFCMDTReanalysis\\Imaging\"\n",
    "Datafolders_beh = r\"C:\\Users\\uggriffin\\SpellmanLab Dropbox\\timspellman\\Imaging\\PFCMDTReanalysis\\Behavior2P\"\n",
    "\n",
    "# animals with layer-specific PFC->MD projection neuron recordings\n",
    "layer_5_animals=['t284','t286','t291','t296','t314','t381','t383','t400','t403']\n",
    "layer_6_animals=['t450','t451','t454','t455']\n",
    "\n",
    "# .mat file to load\n",
    "s2p_sources = 'sourcesS2P.mat' \n",
    "\n",
    "# loop over each animals data, extract suite2p sources/images and store in a dict\n",
    "layer_5_sources = dict(); layer_5_behavior = dict(); counter = 0\n",
    "for animali in layer_5_animals: # loop over each animal\n",
    "\n",
    "    assert counter == 0, \"troubleshooting\"\n",
    "\n",
    "    # join the rootfolder with each animal\n",
    "    datafolder_img = os.path.join(Datafolders_img,animali)\n",
    "    datafolder_beh = os.path.join(Datafolders_beh,animali)\n",
    "\n",
    "    # list out contents of directories\n",
    "    dir_content_beh = os.listdir(datafolder_beh)\n",
    "    dir_content_img = os.listdir(datafolder_img)\n",
    "    assert len(dir_content_beh) == 1, \"More than one behavioral dataset discovered\"\n",
    "\n",
    "    # identify the behavioral data and discover if that file exists in the imaging data\n",
    "    beh_name = dir_content_beh[0].split('.mat')[0].split('Beh')[0]\n",
    "    img_name = [i for i in dir_content_img if beh_name in i]\n",
    "    assert len(img_name) == 1, \"More than one imaging-behavioral dataset discovered\"\n",
    "    \n",
    "    # file to load\n",
    "    datafolder_img_files = os.path.join(datafolder_img,img_name[0])\n",
    "    assert len(os.listdir(datafolder_img_files)) == 1, \"More than 1 S2P File found, abort\"\n",
    "\n",
    "    # load\n",
    "    layer_5_sources[str(animali)]  = sio.loadmat(os.path.join(datafolder_img_files,s2p_sources))\n",
    "    layer_5_behavior[str(animali)] = sio.loadmat(os.path.join(datafolder_beh,dir_content_beh[0]))\n",
    "\n",
    "    counter += 1\n",
    "\n",
    "    print(\"Finished loading data for mouse:\",animali)\n",
    "\n",
    "dict_l5_keys = list(layer_5_sources.keys())\n",
    "layer_5_sources[dict_l5_keys[0]]['neuron']"
   ]
  },
  {
   "cell_type": "code",
   "execution_count": 70,
   "metadata": {},
   "outputs": [
    {
     "data": {
      "text/plain": [
       "('C_raw', 'C', 'S', 'ind', 'stats', 'Cn')"
      ]
     },
     "execution_count": 70,
     "metadata": {},
     "output_type": "execute_result"
    }
   ],
   "source": [
    "new.dtype.names"
   ]
  },
  {
   "cell_type": "code",
   "execution_count": 73,
   "metadata": {},
   "outputs": [
    {
     "name": "stdout",
     "output_type": "stream",
     "text": [
      "[array([[219.96844482, 220.75448608, 210.9617157 , ...,  89.60179138,\n",
      "          88.90511322,  94.62621307],\n",
      "        [187.88795471, 186.55279541, 180.13452148, ..., 103.48821259,\n",
      "         106.28430939, 116.3792038 ],\n",
      "        [ 34.99581909,  33.78382492,  37.37034225, ...,  33.86066055,\n",
      "          37.40167618,  38.13444901],\n",
      "        ...,\n",
      "        [ 13.43187141,  16.75355911,  15.98471737, ...,  62.43767166,\n",
      "          60.6173439 ,  59.04958725],\n",
      "        [ 94.96616364, 115.10664368, 142.9753418 , ...,  22.38360405,\n",
      "          28.86447525,  39.67666626],\n",
      "        [133.32714844, 118.98603058, 120.06503296, ..., 318.14221191,\n",
      "         358.20339966, 400.78930664]])                               ]\n",
      "[array([[0.00155285, 0.00439181, 0.00671919, ..., 0.09973036, 0.09974657,\n",
      "         0.10315832],\n",
      "        [0.        , 0.        , 0.        , ..., 0.21909111, 0.20120798,\n",
      "         0.21149479],\n",
      "        [0.00128629, 0.0054961 , 0.00867812, ..., 0.00457823, 0.00901012,\n",
      "         0.01235659],\n",
      "        ...,\n",
      "        [0.01407123, 0.02839478, 0.03464124, ..., 0.01141172, 0.01096732,\n",
      "         0.01054022],\n",
      "        [0.0195075 , 0.05629698, 0.08517093, ..., 0.05541096, 0.08818089,\n",
      "         0.14285174],\n",
      "        [0.        , 0.        , 0.        , ..., 0.25736477, 0.30658478,\n",
      "         0.35890674]])                                                   ]\n",
      "[array([[6.88045161e-04, 2.19715025e-03, 9.21629939e-06, ...,\n",
      "         0.00000000e+00, 0.00000000e+00, 0.00000000e+00],\n",
      "        [0.00000000e+00, 0.00000000e+00, 0.00000000e+00, ...,\n",
      "         0.00000000e+00, 0.00000000e+00, 2.69488270e-02],\n",
      "        [1.08876535e-03, 1.27193346e-03, 0.00000000e+00, ...,\n",
      "         0.00000000e+00, 4.35237029e-03, 0.00000000e+00],\n",
      "        ...,\n",
      "        [5.29267784e-03, 7.44965210e-03, 0.00000000e+00, ...,\n",
      "         4.23580493e-06, 4.06410284e-06, 5.15656561e-06],\n",
      "        [1.03234874e-02, 1.08207949e-02, 0.00000000e+00, ...,\n",
      "         1.42493187e-02, 8.98892099e-03, 2.69575100e-02],\n",
      "        [0.00000000e+00, 0.00000000e+00, 0.00000000e+00, ...,\n",
      "         1.88746024e-02, 2.36626187e-02, 2.31615583e-02]])   ]\n",
      "[array([[  1,   1],\n",
      "        [  2,   2],\n",
      "        [  4,   4],\n",
      "        [  5,   5],\n",
      "        [  6,   6],\n",
      "        [  7,   7],\n",
      "        [ 13,   8],\n",
      "        [ 10,   9],\n",
      "        [ 12,  10],\n",
      "        [ 14,  11],\n",
      "        [ 15,  12],\n",
      "        [ 16,  13],\n",
      "        [ 17,  14],\n",
      "        [ 19,  15],\n",
      "        [ 20,  16],\n",
      "        [ 23,  17],\n",
      "        [ 22,  18],\n",
      "        [ 21,  19],\n",
      "        [ 24,  20],\n",
      "        [ 25,  22],\n",
      "        [ 27,  23],\n",
      "        [ 29,  24],\n",
      "        [ 30,  25],\n",
      "        [ 31,  26],\n",
      "        [ 32,  27],\n",
      "        [ 33,  29],\n",
      "        [ 34,  30],\n",
      "        [ 36,  31],\n",
      "        [ 35,  32],\n",
      "        [ 37,  33],\n",
      "        [ 38,  34],\n",
      "        [ 40,  35],\n",
      "        [ 42,  36],\n",
      "        [ 43,  37],\n",
      "        [ 44,  38],\n",
      "        [ 46,  39],\n",
      "        [ 47,  40],\n",
      "        [ 48,  42],\n",
      "        [ 49,  43],\n",
      "        [ 50,  44],\n",
      "        [ 51,  45],\n",
      "        [ 53,  46],\n",
      "        [ 52,  47],\n",
      "        [ 55,  49],\n",
      "        [ 56,  50],\n",
      "        [ 57,  51],\n",
      "        [ 58,  52],\n",
      "        [ 59,  54],\n",
      "        [ 60,  58],\n",
      "        [ 61,  59],\n",
      "        [ 64,  60],\n",
      "        [ 65,  61],\n",
      "        [ 66,  62],\n",
      "        [ 68,  63],\n",
      "        [ 71,  65],\n",
      "        [ 75,  67],\n",
      "        [ 76,  69],\n",
      "        [ 78,  70],\n",
      "        [ 79,  71],\n",
      "        [ 81,  72],\n",
      "        [ 82,  73],\n",
      "        [ 83,  75],\n",
      "        [ 85,  77],\n",
      "        [ 86,  79],\n",
      "        [ 88,  80],\n",
      "        [ 89,  81],\n",
      "        [ 90,  82],\n",
      "        [ 91,  83],\n",
      "        [ 93,  84],\n",
      "        [ 92,  85],\n",
      "        [ 95,  86],\n",
      "        [ 96,  87],\n",
      "        [ 98,  88],\n",
      "        [ 99,  89],\n",
      "        [100,  90],\n",
      "        [101,  92],\n",
      "        [104,  93],\n",
      "        [105,  94],\n",
      "        [107,  95],\n",
      "        [108,  97],\n",
      "        [110,  98],\n",
      "        [109,  99],\n",
      "        [112, 101],\n",
      "        [114, 102],\n",
      "        [113, 103],\n",
      "        [115, 106],\n",
      "        [116, 107],\n",
      "        [  3,   3],\n",
      "        [ 45,  41]], dtype=uint8)]\n",
      "[array([], shape=(0, 0), dtype=uint8)]\n",
      "[array([[[0, 0],\n",
      "         [0, 0],\n",
      "         [0, 0],\n",
      "         ...,\n",
      "         [0, 0],\n",
      "         [0, 0],\n",
      "         [0, 0]],\n",
      "\n",
      "        [[0, 0],\n",
      "         [0, 0],\n",
      "         [0, 0],\n",
      "         ...,\n",
      "         [0, 0],\n",
      "         [0, 0],\n",
      "         [0, 0]],\n",
      "\n",
      "        [[0, 0],\n",
      "         [0, 0],\n",
      "         [0, 0],\n",
      "         ...,\n",
      "         [0, 0],\n",
      "         [0, 0],\n",
      "         [0, 0]],\n",
      "\n",
      "        ...,\n",
      "\n",
      "        [[0, 0],\n",
      "         [0, 0],\n",
      "         [0, 0],\n",
      "         ...,\n",
      "         [0, 0],\n",
      "         [0, 0],\n",
      "         [0, 0]],\n",
      "\n",
      "        [[0, 0],\n",
      "         [0, 0],\n",
      "         [0, 0],\n",
      "         ...,\n",
      "         [0, 0],\n",
      "         [0, 0],\n",
      "         [0, 0]],\n",
      "\n",
      "        [[0, 0],\n",
      "         [0, 0],\n",
      "         [0, 0],\n",
      "         ...,\n",
      "         [0, 0],\n",
      "         [0, 0],\n",
      "         [0, 0]]], dtype=uint8)]\n"
     ]
    }
   ],
   "source": [
    "new = layer_5_sources['t284'].get('neuron')\n",
    "\n"
   ]
  },
  {
   "cell_type": "code",
   "execution_count": 78,
   "metadata": {},
   "outputs": [
    {
     "data": {
      "text/plain": [
       "(89, 34899)"
      ]
     },
     "execution_count": 78,
     "metadata": {},
     "output_type": "execute_result"
    }
   ],
   "source": [
    "myDictionary['C_raw'].shape"
   ]
  },
  {
   "cell_type": "markdown",
   "metadata": {},
   "source": [
    "-----"
   ]
  },
  {
   "cell_type": "markdown",
   "metadata": {},
   "source": [
    "# Layer 6 Vs Layer 5 neurons\n",
    "\n",
    "### Question: We need to gather all metadata and so need the stats file. We can test if there is a gradient effect of rate.\n",
    "### Question: Is there differences in sparseness. FFT over the autocorrelogram would be interesting.\n",
    "\n",
    "So my initial examination seems to be that the `iscell` variable was used to decide belonging to the 'inclusion' group. Which I believe is fine. I've also inspected a handful of suite2p results and would trust everything from `iscell`. You could potentially visualize to get borderline cells, but `iscell` is good enough.\n",
    "\n",
    "For these analyses, I will use `iscell` to tell me what to explore. I will not manually inspect everything."
   ]
  },
  {
   "cell_type": "code",
   "execution_count": 5,
   "metadata": {},
   "outputs": [],
   "source": [
    "beh = sio.loadmat(r\"C:\\Users\\johnj\\SpellmanLab Dropbox\\timspellman\\Behavior2P_Archive\\t281\\SEDS1Beh.mat\")"
   ]
  },
  {
   "cell_type": "code",
   "execution_count": 2,
   "metadata": {},
   "outputs": [
    {
     "ename": "FileNotFoundError",
     "evalue": "[WinError 3] The system cannot find the path specified: 'C:\\\\Users\\\\uggriffin\\\\SpellmanLab Dropbox\\\\timspellman\\\\Imaging\\\\PFCMDTReanalysis\\\\Imaging\\\\t284\\\\SEDS2SEDS3\\\\suite2p'",
     "output_type": "error",
     "traceback": [
      "\u001b[1;31m---------------------------------------------------------------------------\u001b[0m",
      "\u001b[1;31mFileNotFoundError\u001b[0m                         Traceback (most recent call last)",
      "Cell \u001b[1;32mIn[2], line 37\u001b[0m\n\u001b[0;32m     34\u001b[0m     \u001b[38;5;28;01mcontinue\u001b[39;00m\n\u001b[0;32m     36\u001b[0m \u001b[38;5;66;03m# make sure only 1 plane is listed (max projection was performed on multiplane data)\u001b[39;00m\n\u001b[1;32m---> 37\u001b[0m plane_check \u001b[38;5;241m=\u001b[39m [i \u001b[38;5;28;01mfor\u001b[39;00m i \u001b[38;5;129;01min\u001b[39;00m \u001b[43mos\u001b[49m\u001b[38;5;241;43m.\u001b[39;49m\u001b[43mlistdir\u001b[49m\u001b[43m(\u001b[49m\u001b[43ms2pi\u001b[49m\u001b[43m)\u001b[49m \u001b[38;5;28;01mif\u001b[39;00m \u001b[38;5;124m'\u001b[39m\u001b[38;5;124mplane\u001b[39m\u001b[38;5;124m'\u001b[39m \u001b[38;5;129;01min\u001b[39;00m i]\n\u001b[0;32m     38\u001b[0m \u001b[38;5;28;01massert\u001b[39;00m \u001b[38;5;28mlen\u001b[39m(plane_check) \u001b[38;5;241m==\u001b[39m \u001b[38;5;241m1\u001b[39m, \u001b[38;5;124m\"\u001b[39m\u001b[38;5;124mmultiple dimension data discovered\u001b[39m\u001b[38;5;124m\"\u001b[39m \u001b[38;5;66;03m# sanity check for multiplane data\u001b[39;00m\n\u001b[0;32m     39\u001b[0m plane_name \u001b[38;5;241m=\u001b[39m plane_check[\u001b[38;5;241m0\u001b[39m] \u001b[38;5;66;03m# name of plane\u001b[39;00m\n",
      "\u001b[1;31mFileNotFoundError\u001b[0m: [WinError 3] The system cannot find the path specified: 'C:\\\\Users\\\\uggriffin\\\\SpellmanLab Dropbox\\\\timspellman\\\\Imaging\\\\PFCMDTReanalysis\\\\Imaging\\\\t284\\\\SEDS2SEDS3\\\\suite2p'"
     ]
    }
   ],
   "source": [
    "# root folder\n",
    "Datafolders = r\"C:\\Users\\uggriffin\\SpellmanLab Dropbox\\timspellman\\Imaging\\PFCMDTReanalysis\\Imaging\"\n",
    "Datafolders_beh = r\"C:\\Users\\johnj\\SpellmanLab Dropbox\\timspellman\\Behavior2P_Archive\"\n",
    "\n",
    "# animals with layer-specific PFC->MD projection neuron recordings\n",
    "layer_5_animals=['t284','t286','t291','t296','t314','t381','t383','t400','t403']\n",
    "layer_6_animals=['t450','t451','t454','t455']\n",
    "all_animals = layer_5_animals+layer_6_animals\n",
    "\n",
    "# loop over each animals data, extract suite2p sources/images and store in a dict\n",
    "neural_data = dict()\n",
    "for animali in all_animals: # loop over each animal\n",
    "\n",
    "    # join the rootfolder with each animal\n",
    "    datafolder = os.path.join(Datafolders,animali) \n",
    "\n",
    "    # filter out SEDS sessions that are joined\n",
    "    dir_content   = os.listdir(datafolder) # gets subfolders in directory\n",
    "    seds_sessions = [i for i in dir_content if 'SEDS' in i] # find any sessions that are SEDS\n",
    "    idx_rem       = [i for i in range(len(seds_sessions)) if 'SED' in helper_funs.find_duplicate_characters(seds_sessions[i])]\n",
    "    seds_merged   = [seds_sessions.pop(i) for i in idx_rem] # this both deletes SEDS+SEDS sessions + stores which session was deleted as 'seds_merged' which will NOT be used here\n",
    "    suite2p_path  = [os.path.join(datafolder,i,'suite2p') for i in seds_sessions if 'x' not in i] # define suite2p paths for each recorded session\n",
    "\n",
    "    # loop over suite2p_paths and extract information, including summary images\n",
    "    session = dict()\n",
    "    for s2pi in suite2p_path:\n",
    "\n",
    "        # get session name\n",
    "        session_name = os.path.split(os.path.split(s2pi)[0])[-1]\n",
    "\n",
    "        if 'x' in session_name:\n",
    "            print(\"Session:\", session_name,\" skipped\")\n",
    "            continue\n",
    "\n",
    "        # make sure only 1 plane is listed (max projection was performed on multiplane data)\n",
    "        plane_check = [i for i in os.listdir(s2pi) if 'plane' in i]\n",
    "        assert len(plane_check) == 1, \"multiple dimension data discovered\" # sanity check for multiplane data\n",
    "        plane_name = plane_check[0] # name of plane\n",
    "\n",
    "        # load suite2p variables\n",
    "        ops         = np.load(os.path.join(s2pi,plane_name,'ops.npy'), allow_pickle=True).item(); ops.keys() == ops.keys() # options\n",
    "        stats_file  = np.load(os.path.join(s2pi,plane_name,'stat.npy'),allow_pickle=True) # statistics\n",
    "        iscell      = np.load(os.path.join(s2pi,plane_name,'iscell.npy'),allow_pickle=True)[:, 0].astype(bool) # index for cell or not\n",
    "        f_cells     = np.load(os.path.join(s2pi,plane_name,'F.npy'),allow_pickle=True) # f of cells\n",
    "        f_neuropils = np.load(os.path.join(s2pi,plane_name,'Fneu.npy'),allow_pickle=True) # f of neuropil\n",
    "        spks        = np.load(os.path.join(s2pi,plane_name,'spks.npy'),allow_pickle=True) # spk via deconvolution\n",
    "        img_sum     = suite2p.ROI.stats_dicts_to_3d_array(stats_file, Ly=ops['Ly'], Lx=ops['Lx'], label_id=True) # summary image\n",
    "\n",
    "        # layer indicator\n",
    "        if animali in layer_5_animals:\n",
    "            layer_ind = 'L5'\n",
    "        elif animali in layer_6_animals:\n",
    "            layer_ind = 'L6'\n",
    "\n",
    "        # save data - redundant, exhausts more memory, but cleaner this way\n",
    "        session[str(session_name)] = {'ops':         ops,\n",
    "                                      'stats':       stats_file,\n",
    "                                      'iscell':      iscell,\n",
    "                                      'f_cells':     f_cells,\n",
    "                                      'f_neuropils': f_neuropils,\n",
    "                                      'spks':        spks,\n",
    "                                      'img_summary': img_sum,\n",
    "                                      'Layer':       layer_ind}\n",
    "\n",
    "    neural_data[str(animali)] = session"
   ]
  },
  {
   "cell_type": "code",
   "execution_count": 3,
   "metadata": {},
   "outputs": [],
   "source": [
    "# join the rootfolder with each animal\n",
    "datafolder = os.path.join(Datafolders,animali) \n",
    "\n",
    "# filter out SEDS sessions that are joined\n",
    "dir_content   = os.listdir(datafolder) # gets subfolders in directory\n",
    "seds_sessions = [i for i in dir_content if 'SEDS' in i] # find any sessions that are SEDS\n",
    "\n",
    "# MERGE THIS WITH ABOVE!!!\n",
    "idx_rem       = [i for i in range(len(seds_sessions)) if 'SED' in \"\".join(helper_funs.find_dup_char(seds_sessions[i]))]\n",
    "\n",
    "seds_merged   = [seds_sessions.pop(i) for i in idx_rem] # this both deletes SEDS+SEDS sessions + stores which session was deleted as 'seds_merged' which will NOT be used here\n",
    "suite2p_path  = [os.path.join(datafolder,i,'suite2p') for i in seds_sessions if 'x' not in i] # define suite2p paths for each recorded session\n"
   ]
  },
  {
   "cell_type": "code",
   "execution_count": 18,
   "metadata": {},
   "outputs": [
    {
     "data": {
      "text/plain": [
       "True"
      ]
     },
     "execution_count": 18,
     "metadata": {},
     "output_type": "execute_result"
    }
   ],
   "source": [
    "'SED' in \"\".join(helper_funs.find_dup_char(seds_sessions[1]))"
   ]
  },
  {
   "cell_type": "code",
   "execution_count": 14,
   "metadata": {},
   "outputs": [
    {
     "name": "stdout",
     "output_type": "stream",
     "text": [
      "True\n"
     ]
    },
    {
     "data": {
      "text/plain": [
       "'SEDS2SEDS3'"
      ]
     },
     "execution_count": 14,
     "metadata": {},
     "output_type": "execute_result"
    }
   ],
   "source": [
    "print('S' in helper_funs.find_dup_char(seds_sessions[1]) and 'E' in helper_funs.find_dup_char(seds_sessions[1]) and 'D' in helper_funs.find_dup_char(seds_sessions[1]))\n",
    "seds_sessions[1]"
   ]
  },
  {
   "cell_type": "code",
   "execution_count": 9,
   "metadata": {},
   "outputs": [
    {
     "data": {
      "text/plain": [
       "['S']"
      ]
     },
     "execution_count": 9,
     "metadata": {},
     "output_type": "execute_result"
    }
   ],
   "source": [
    "helper_funs.find_duplicate_characters(seds_sessions[0])"
   ]
  },
  {
   "cell_type": "markdown",
   "metadata": {},
   "source": []
  }
 ],
 "metadata": {
  "kernelspec": {
   "display_name": "spellPy",
   "language": "python",
   "name": "python3"
  },
  "language_info": {
   "codemirror_mode": {
    "name": "ipython",
    "version": 3
   },
   "file_extension": ".py",
   "mimetype": "text/x-python",
   "name": "python",
   "nbconvert_exporter": "python",
   "pygments_lexer": "ipython3",
   "version": "3.9.19"
  }
 },
 "nbformat": 4,
 "nbformat_minor": 2
}
