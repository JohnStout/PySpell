{
 "cells": [
  {
   "cell_type": "markdown",
   "metadata": {},
   "source": [
    "This notebook will show you how to create an `nwb` file from `suite2p` results and from your behavioral results.\n",
    "\n",
    "If you have collected your behavior using arduino and putty, please convert those files using Tims MATLAB code before attempting to run this. I have no python equivalent method to extract information from those files and it is not needed.\n",
    "\n",
    "HOW TO GET STARTED:\n",
    "1) Anaconda is installed\n",
    "2) Open anaconda terminal\n",
    "3) Enter the following in your anaconda prompt\n",
    "\n",
    "    `conda create -n spell python==3.9`\n",
    "\n",
    "    `conda activate spell`\n",
    "\n",
    "    `pip install suite2p`\n",
    "\n",
    "    `pip install pynwb`\n",
    "    \n",
    "    `pip install scipy`    \n",
    "\n",
    "For questions about `NWB`, see https://pynwb.readthedocs.io/en/stable/index.html\n",
    "\n",
    "`NWB` is valuable because\n",
    "1) You can share your data for free: https://dandiarchive.org/\n",
    "2) You are supporting data standardization, meaning that once you know how to get through your own `nwb` file, you can get through any `nwb` file"
   ]
  },
  {
   "cell_type": "markdown",
   "metadata": {},
   "source": [
    "---\n",
    "\n",
    "If you get an error about directory/paths and cannot load `nwbfun`, then you have to relocate where `nwbfun` is located (somewhere in /John/PySpell/code) ) and run `os.chdir` to change your working directory to where that code is located"
   ]
  },
  {
   "cell_type": "markdown",
   "metadata": {},
   "source": [
    "First, you want to assign your directories"
   ]
  },
  {
   "cell_type": "code",
   "execution_count": 1,
   "metadata": {},
   "outputs": [
    {
     "name": "stdout",
     "output_type": "stream",
     "text": [
      "Added path: c:\\Users\\johnj\\SpellmanLab Dropbox\\timspellman\\Python\\John\\PySpell\\code\n"
     ]
    }
   ],
   "source": [
    "from pynwb import NWBHDF5IO\n",
    "import nwbwidgets\n",
    "import os;\n",
    "import numpy as np\n",
    "import scipy.io as sio\n",
    "import matplotlib.pyplot as plt\n",
    "\n",
    "# custom code\n",
    "path_added = os.path.split(os.path.split(os.getcwd())[0])[0]; os.chdir(path_added); print(\"Added path:\",path_added)\n",
    "import rootfun as rf # we can import this if our cwd is local\n",
    "import nwbfun\n",
    "import plotters\n",
    "root = rf.dropbox_root(dropbox_folder='timspellman')"
   ]
  },
  {
   "cell_type": "code",
   "execution_count": null,
   "metadata": {},
   "outputs": [],
   "source": [
    "# REPLACE ME!!!!!\n",
    "datafolder = r\"path/to/your/suite2p\"\n",
    "savename = \"nwbfile.nwb\"\n",
    "savepath = r\"path/to/wherever/you/want/to/save\"\n",
    "\n",
    "# REPLACE ME\n",
    "matpath = r\"path/to/your/behavior.mat\""
   ]
  },
  {
   "cell_type": "markdown",
   "metadata": {},
   "source": [
    "Then, you write your nwb file"
   ]
  },
  {
   "cell_type": "code",
   "execution_count": null,
   "metadata": {},
   "outputs": [],
   "source": [
    "# write file to nwb - first works. Just need to align to behavior timeseries\n",
    "savepath_nwb = nwbfun.suite2p_nwb().save_nwb(datafolder = datafolder, nwbsavename = savename, savefolder = savepath)\n",
    "\n",
    "# now append your behavioral data\n",
    "print(\"This may take a few minutes as the code works in a ton of data to NWB\")\n",
    "nwbfun.behavior_nwb(matpath = matpath).readwrite(savepath_nwb)"
   ]
  },
  {
   "cell_type": "markdown",
   "metadata": {},
   "source": [
    "---\n",
    "\n",
    "Here is an example"
   ]
  },
  {
   "cell_type": "code",
   "execution_count": 2,
   "metadata": {},
   "outputs": [
    {
     "name": "stdout",
     "output_type": "stream",
     "text": [
      "root pynwb.file.NWBFile at 0x2536958497408\n",
      "Fields:\n",
      "  file_create_date: [datetime.datetime(2024, 6, 24, 9, 15, 17, 425855, tzinfo=tzlocal())]\n",
      "  identifier: c\n",
      "  institution: UCONN Health\n",
      "  lab: Spellman\n",
      "  session_description: 2P recording\n",
      "  session_start_time: 2024-01-01 14:00:39.659776-05:00\n",
      "  timestamps_reference_time: 2024-01-01 14:00:39.659776-05:00\n",
      "\n"
     ]
    },
    {
     "name": "stderr",
     "output_type": "stream",
     "text": [
      "c:\\Users\\johnj\\anaconda3\\envs\\spellPy\\lib\\site-packages\\hdmf\\container.py:536: UserWarning: The linked table for DynamicTableRegion 'rois' does not share an ancestor with the DynamicTableRegion.\n",
      "  child._validate_on_set_parent()\n"
     ]
    },
    {
     "name": "stdout",
     "output_type": "stream",
     "text": [
      "File saved to: c:\\Users\\johnj\\SpellmanLab Dropbox\\timspellman\\Python\\John\\PySpell\\code\\Projects\\Test Data\\t284_SEDS2_L5.nwb\n",
      "This may take a few minutes as the code works in a ton of data to NWB\n",
      "End trial shaved off\n",
      "Please wait, this may take a few moments...\n"
     ]
    }
   ],
   "source": [
    "# datafolder is the location of your suite2p output\n",
    "datafolder = os.path.join(root,r\"timspellman\\Imaging\\PFCMDTReanalysis\\Imaging\\t284\\SEDS2\\suite2p\")\n",
    "\n",
    "# savename is the file you want the nwb to save as\n",
    "savename   = \"t284_SEDS2_L5.nwb\"\n",
    "\n",
    "# savepath is where you want the NWB file to save.\n",
    "savepath   = os.path.join(root,r\"timspellman\\Python\\John\\PySpell\\code\\Projects\\Test Data\")\n",
    "\n",
    "# matpath is the location of your matlab behavioral data\n",
    "matpath    = os.path.join(root,r\"timspellman\\Behavior2P_Archive\\t284\\SEDS2Beh.mat\")\n",
    "\n",
    "# write file to nwb - first works. Just need to align to behavior timeseries\n",
    "savepath_nwb = nwbfun.suite2p_nwb().save_nwb(datafolder = datafolder, nwbsavename = savename, savefolder = savepath)\n",
    "print(\"File saved to:\",savepath_nwb) \n",
    "\n",
    "# now append your behavioral data\n",
    "print(\"This may take a few minutes as the code works in a ton of data to NWB\")\n",
    "nwbfun.behavior_nwb(matpath = matpath).readwrite(savepath_nwb)\n",
    "\n",
    "# validate - an error .txt file will appear if you have an issue with the file\n",
    "nwbfun.validate_nwb(nwbpath=savepath_nwb)"
   ]
  },
  {
   "cell_type": "code",
   "execution_count": 3,
   "metadata": {},
   "outputs": [
    {
     "data": {
      "text/plain": [
       "'c:\\\\Users\\\\johnj\\\\SpellmanLab Dropbox\\\\timspellman\\\\Python\\\\John\\\\PySpell\\\\code\\\\Projects\\\\Test Data\\\\t284_SEDS2_L5.nwb'"
      ]
     },
     "execution_count": 3,
     "metadata": {},
     "output_type": "execute_result"
    }
   ],
   "source": [
    "savepath_nwb"
   ]
  },
  {
   "cell_type": "code",
   "execution_count": 4,
   "metadata": {},
   "outputs": [
    {
     "data": {
      "text/plain": [
       "'c:\\\\Users\\\\johnj\\\\SpellmanLab Dropbox\\\\timspellman\\\\Behavior2P_Archive\\\\t284\\\\SEDS2Beh.mat'"
      ]
     },
     "execution_count": 4,
     "metadata": {},
     "output_type": "execute_result"
    }
   ],
   "source": [
    "matpath"
   ]
  },
  {
   "cell_type": "code",
   "execution_count": null,
   "metadata": {},
   "outputs": [],
   "source": []
  }
 ],
 "metadata": {
  "kernelspec": {
   "display_name": "spellPy",
   "language": "python",
   "name": "python3"
  },
  "language_info": {
   "codemirror_mode": {
    "name": "ipython",
    "version": 3
   },
   "file_extension": ".py",
   "mimetype": "text/x-python",
   "name": "python",
   "nbconvert_exporter": "python",
   "pygments_lexer": "ipython3",
   "version": "3.9.19"
  }
 },
 "nbformat": 4,
 "nbformat_minor": 2
}
